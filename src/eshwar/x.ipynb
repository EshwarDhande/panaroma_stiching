version https://git-lfs.github.com/spec/v1
oid sha256:5d4710ed41fef3e4954f142ccc39ad599bf80b539cf468723d2b7100c33639d3
size 15018122
